{
 "cells": [
  {
   "cell_type": "code",
   "execution_count": 1,
   "id": "cf3329b1",
   "metadata": {},
   "outputs": [
    {
     "name": "stdout",
     "output_type": "stream",
     "text": [
      "1 \n",
      "1 2 \n",
      "1 2 3 \n",
      "1 2 3 4 \n",
      "1 2 3 4 5 \n",
      "1 2 3 4 5 6 \n"
     ]
    }
   ],
   "source": [
    "#Nomor 1\n",
    "baris = 6\n",
    "for i in range(1,baris+1,1):\n",
    "    for j in range(1,i + 1):\n",
    "        print(j, end=\" \")\n",
    "    print()"
   ]
  },
  {
   "cell_type": "code",
   "execution_count": 14,
   "id": "289d0cec",
   "metadata": {},
   "outputs": [
    {
     "name": "stdout",
     "output_type": "stream",
     "text": [
      "5 4 3 2 1 \n",
      "4 3 2 1 \n",
      "3 2 1 \n",
      "2 1 \n",
      "1 \n",
      "\n"
     ]
    }
   ],
   "source": [
    "# Nomor 2\n",
    "n = 5\n",
    "k = 5\n",
    "for i in range(0,n+1):\n",
    "    for j in range(k-i,0,-1):\n",
    "        print(j, end=\" \")\n",
    "    print()"
   ]
  },
  {
   "cell_type": "code",
   "execution_count": 27,
   "id": "952c9855",
   "metadata": {},
   "outputs": [
    {
     "name": "stdout",
     "output_type": "stream",
     "text": [
      "untuk n = 2 , f(x) = 4.5\n",
      "untuk n = 3 , f(x) = 3.1666666666666665\n",
      "untuk n = 4 , f(x) = 16.083333333333332\n",
      "untuk n = 5 , f(x) = 5.05\n",
      "Total f(x) dari n = 2 hingga n = 5 adalah 28.8\n"
     ]
    }
   ],
   "source": [
    "# Nomor 3\n",
    "total_f_x = 0  # Inisialisasi total \n",
    "for n in range(2,6):\n",
    "    if n % 2 == 0:\n",
    "        f_x = (1/(n**2-n)) + n**2\n",
    "    else:\n",
    "        f_x = (1/(n**2-n)) + n\n",
    "    total_f_x += f_x  # Tambahkan f_x ke total\n",
    "    print('untuk n =', n, ', f(x) =', f_x)\n",
    "print('Total f(x) dari n = 2 hingga n = 5 adalah', total_f_x)"
   ]
  },
  {
   "cell_type": "code",
   "execution_count": 31,
   "id": "0071ab0b",
   "metadata": {},
   "outputs": [
    {
     "name": "stdout",
     "output_type": "stream",
     "text": [
      "List yang sudah diurutkan dari besar ke kecil adalah [100, 50, 30, 20, 10, 5, 3, 2, 1, 0, -1]\n",
      "nilai terbesar adalah 100\n",
      "nilai terkecil adalah -1\n"
     ]
    }
   ],
   "source": [
    "list1 = [10,1,-1,0,30,50,100,20,5,3,2]\n",
    "list2 = sorted(list1, reverse=True)\n",
    "\n",
    "print(\"List yang sudah diurutkan dari besar ke kecil adalah\", list2)\n",
    "print('nilai terbesar adalah', list2[0])\n",
    "print('nilai terkecil adalah', list2[-1])"
   ]
  },
  {
   "cell_type": "code",
   "execution_count": null,
   "id": "98952b59",
   "metadata": {},
   "outputs": [
    {
     "name": "stdout",
     "output_type": "stream",
     "text": [
      "2.718281828459045\n",
      "1.0\n",
      "0.49999999999999994\n"
     ]
    },
    {
     "ename": "",
     "evalue": "",
     "output_type": "error",
     "traceback": [
      "\u001b[1;31mThe Kernel crashed while executing code in the current cell or a previous cell. \n",
      "\u001b[1;31mPlease review the code in the cell(s) to identify a possible cause of the failure. \n",
      "\u001b[1;31mClick <a href='https://aka.ms/vscodeJupyterKernelCrash'>here</a> for more info. \n",
      "\u001b[1;31mView Jupyter <a href='command:jupyter.viewOutput'>log</a> for further details."
     ]
    }
   ],
   "source": [
    "import numpy as np\n",
    "x = np.exp(1)\n",
    "print(x)\n",
    "y = np.sin(np.pi/2)\n",
    "print(y)\n",
    "z = np.sin(np.radians(30))\n",
    "print(z)"
   ]
  },
  {
   "cell_type": "code",
   "execution_count": null,
   "id": "5aa4f173",
   "metadata": {},
   "outputs": [],
   "source": [
    "y = np.sin(np.radians(30))\n",
    "print(y)"
   ]
  }
 ],
 "metadata": {
  "kernelspec": {
   "display_name": "Python 3",
   "language": "python",
   "name": "python3"
  },
  "language_info": {
   "codemirror_mode": {
    "name": "ipython",
    "version": 3
   },
   "file_extension": ".py",
   "mimetype": "text/x-python",
   "name": "python",
   "nbconvert_exporter": "python",
   "pygments_lexer": "ipython3",
   "version": "3.13.2"
  }
 },
 "nbformat": 4,
 "nbformat_minor": 5
}
